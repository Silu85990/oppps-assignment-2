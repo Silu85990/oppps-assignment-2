{
 "cells": [
  {
   "cell_type": "code",
   "execution_count": 1,
   "id": "2c19f435-b5e1-485a-916d-1cf44adbd1bb",
   "metadata": {},
   "outputs": [
    {
     "name": "stdout",
     "output_type": "stream",
     "text": [
      "Toyota\n",
      "Mustang\n",
      "black\n"
     ]
    }
   ],
   "source": [
    "#Q1_Ans\n",
    "\n",
    "'''In object-oriented programming (OOP), a class is a blueprint or a template for creating objects.\n",
    "It defines a set of attributes (data) and behaviors (methods) that the objects belonging to that\n",
    "class will have. Think of a class as a blueprint for creating multiple objects of the same type.\n",
    "\n",
    "An object, on the other hand, is an instance or a specific realization of a class. \n",
    "It is created using the blueprint defined by the class and represents a unique entity that\n",
    "can store data and perform operations defined by its class.'''\n",
    "\n",
    "\n",
    "class Car:\n",
    "    def __init__(self, brand, model, color, fuelType):\n",
    "        self.brand = brand\n",
    "        self.model = model\n",
    "        self.color = color\n",
    "        self.fuelType = fuelType\n",
    "        \n",
    "        \n",
    "Car1 = Car(\"Toyota\", \"Camry\", \"black\", \"petrol\")\n",
    "Car2 = Car(\"Ford\", \"Mustang\", \"red\", \"diesel\")\n",
    "\n",
    "\n",
    "print(Car1.brand)  \n",
    "print(Car2.model)\n",
    "print(Car1.color)"
   ]
  },
  {
   "cell_type": "code",
   "execution_count": 2,
   "id": "e58b67d8-b73b-422b-aabf-4e181479ae21",
   "metadata": {},
   "outputs": [
    {
     "data": {
      "text/plain": [
       "'The four pillars of object-oriented programming (OOP) are\\n   1-Encapsulation\\n   2-Inheritance\\n   3-Polymorphism\\n   4-Abstraction'"
      ]
     },
     "execution_count": 2,
     "metadata": {},
     "output_type": "execute_result"
    }
   ],
   "source": [
    "#Q2_Ans\n",
    "\n",
    "'''The four pillars of object-oriented programming (OOP) are\n",
    "   1-Encapsulation\n",
    "   2-Inheritance\n",
    "   3-Polymorphism\n",
    "   4-Abstraction'''"
   ]
  },
  {
   "cell_type": "code",
   "execution_count": 4,
   "id": "663904a4-729c-47d4-8a62-b0731ce4abfc",
   "metadata": {},
   "outputs": [
    {
     "name": "stdout",
     "output_type": "stream",
     "text": [
      "lidu\n",
      "30\n",
      "Female\n"
     ]
    }
   ],
   "source": [
    "#Q3_Ans\n",
    "\n",
    "class Person:\n",
    "    def __init__(self, name, age, gender):\n",
    "        self.name = name\n",
    "        self.age = age\n",
    "        self.gender = gender\n",
    "        \n",
    "person1 = Person(\"lidu\", 25, \"Female\")\n",
    "person2 = Person(\"sipun\", 30, \"Male\")\n",
    "\n",
    "print(person1.name)\n",
    "print(person2.age) \n",
    "print(person1.gender)"
   ]
  },
  {
   "cell_type": "code",
   "execution_count": 5,
   "id": "bffdcb1e-7251-4558-9d3e-10a3f1dd7ac6",
   "metadata": {},
   "outputs": [
    {
     "data": {
      "text/plain": [
       "'In object-oriented programming (OOP), the self parameter is used to refer to the instance of a class\\nwithin the class itself. It is a convention in Python\\n(though it can have a different name in other programming languages) to represent the instance of a class.\\n\\nWhen defining methods (functions) within a class, the first parameter is conventionally named self,\\nwhich represents the instance of the class. This parameter allows methods to access and manipulate the\\nattributes and methods of the object.'"
      ]
     },
     "execution_count": 5,
     "metadata": {},
     "output_type": "execute_result"
    }
   ],
   "source": [
    "#Q4_Ans\n",
    "\n",
    "\"\"\"In object-oriented programming (OOP), the self parameter is used to refer to the instance of a class\n",
    "within the class itself. It is a convention in Python\n",
    "(though it can have a different name in other programming languages) to represent the instance of a class.\n",
    "\n",
    "When defining methods (functions) within a class, the first parameter is conventionally named self,\n",
    "which represents the instance of the class. This parameter allows methods to access and manipulate the\n",
    "attributes and methods of the object.\"\"\""
   ]
  },
  {
   "cell_type": "code",
   "execution_count": 6,
   "id": "530e4157-7c96-4025-8248-a939492ef9bf",
   "metadata": {},
   "outputs": [
    {
     "name": "stdout",
     "output_type": "stream",
     "text": [
      "Animal is eating.\n",
      "Dog is barking.\n"
     ]
    }
   ],
   "source": [
    "#Q_Ans\n",
    "\n",
    "class Animal:\n",
    "    def eat(self):\n",
    "        print(\"Animal is eating.\")\n",
    "\n",
    "class Dog(Animal):\n",
    "    def bark(self):\n",
    "        print(\"Dog is barking.\")\n",
    "        \n",
    "        \n",
    "dog = Dog()\n",
    "dog.eat()  \n",
    "dog.bark()"
   ]
  },
  {
   "cell_type": "code",
   "execution_count": null,
   "id": "92d56afb-d0fe-40b4-815f-44cf52d61de7",
   "metadata": {},
   "outputs": [],
   "source": []
  }
 ],
 "metadata": {
  "kernelspec": {
   "display_name": "Python 3 (ipykernel)",
   "language": "python",
   "name": "python3"
  },
  "language_info": {
   "codemirror_mode": {
    "name": "ipython",
    "version": 3
   },
   "file_extension": ".py",
   "mimetype": "text/x-python",
   "name": "python",
   "nbconvert_exporter": "python",
   "pygments_lexer": "ipython3",
   "version": "3.10.8"
  }
 },
 "nbformat": 4,
 "nbformat_minor": 5
}
